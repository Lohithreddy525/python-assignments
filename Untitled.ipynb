{
  "nbformat": 4,
  "nbformat_minor": 0,
  "metadata": {
    "colab": {
      "name": "Untitled",
      "provenance": [],
      "authorship_tag": "ABX9TyPG6yw6TdA4gvJ3An0d/JDQ",
      "include_colab_link": true
    },
    "kernelspec": {
      "name": "python3",
      "display_name": "Python 3"
    }
  },
  "cells": [
    {
      "cell_type": "markdown",
      "metadata": {
        "id": "view-in-github",
        "colab_type": "text"
      },
      "source": [
        "<a href=\"https://colab.research.google.com/github/Lohithreddy525/python-assignments/blob/master/Untitled.ipynb\" target=\"_parent\"><img src=\"https://colab.research.google.com/assets/colab-badge.svg\" alt=\"Open In Colab\"/></a>"
      ]
    },
    {
      "cell_type": "code",
      "metadata": {
        "id": "QWDjHCkRyWHb"
      },
      "source": [
        ""
      ],
      "execution_count": null,
      "outputs": []
    },
    {
      "cell_type": "markdown",
      "metadata": {
        "id": "CCgeVOxgyvzL"
      },
      "source": [
        " Find minimum among three nunbers"
      ]
    },
    {
      "cell_type": "code",
      "metadata": {
        "id": "wy11R-e_2wiB",
        "outputId": "ab6b36fe-459a-4518-db77-f37c22beb935",
        "colab": {
          "base_uri": "https://localhost:8080/",
          "height": 34
        }
      },
      "source": [
        " \n",
        "a,b,c=2,4,6\n",
        "if(a<=b and a<=c):\n",
        "  print(a,\"is the smallest\")\n",
        "elif(b<=a and b<=c):\n",
        "  print(b,\"is the smallest\")\n",
        "else:\n",
        "  print(c,\"is the smallest\")"
      ],
      "execution_count": null,
      "outputs": [
        {
          "output_type": "stream",
          "text": [
            "2 is the smallest\n"
          ],
          "name": "stdout"
        }
      ]
    },
    {
      "cell_type": "markdown",
      "metadata": {
        "id": "mqsrTzi-zr2K"
      },
      "source": [
        " Find the GCD and LCM of two/three nunbers"
      ]
    },
    {
      "cell_type": "code",
      "metadata": {
        "id": "xG8A4tu_z3Pv",
        "outputId": "a5a8032b-e1d9-4d04-e5c8-dd90d09a8294",
        "colab": {
          "base_uri": "https://localhost:8080/",
          "height": 34
        }
      },
      "source": [
        " \n",
        "def compute_gcd(x,y):\n",
        "  while(y):\n",
        "    x,y=y,x%y\n",
        "  return x\n",
        "def compute_lcm(x,y):\n",
        "  lcm=(x*y)//compute_gcd(x,y)\n",
        "  return lcm\n",
        "num1=28\n",
        "num2=92\n",
        "print(\"The L.C.M. is\",compute_lcm(num1,num2))"
      ],
      "execution_count": null,
      "outputs": [
        {
          "output_type": "stream",
          "text": [
            "The L.C.M. is 644\n"
          ],
          "name": "stdout"
        }
      ]
    },
    {
      "cell_type": "markdown",
      "metadata": {
        "id": "du8bfHCQ0Bc2"
      },
      "source": [
        " Check whether the given number is  perfect"
      ]
    },
    {
      "cell_type": "code",
      "metadata": {
        "id": "yprIQxE50WhD",
        "outputId": "652d9d60-0e2a-44d6-e9dc-e017f6818c13",
        "colab": {
          "base_uri": "https://localhost:8080/",
          "height": 85
        }
      },
      "source": [
        " \n",
        "n=int(input(\"Enter any number\"))\n",
        "sum1=0\n",
        "for i in range(1,n):\n",
        "  if(n%i==0):\n",
        "    sum1=sum1+i\n",
        "  if(sum1==n):\n",
        "    print(\"The number is a perfect number\")\n",
        "  else:\n",
        "    print(\"The number is not a perfect number\")"
      ],
      "execution_count": null,
      "outputs": [
        {
          "output_type": "stream",
          "text": [
            "Enter any number4\n",
            "The number is not a perfect number\n",
            "The number is not a perfect number\n",
            "The number is not a perfect number\n"
          ],
          "name": "stdout"
        }
      ]
    },
    {
      "cell_type": "markdown",
      "metadata": {
        "id": "S95EZzw10kAi"
      },
      "source": [
        " Print twin primes upto specified limit"
      ]
    },
    {
      "cell_type": "code",
      "metadata": {
        "id": "holx8SkI1rMN",
        "outputId": "05654d78-96cf-494c-8e98-7fb4de83eefc",
        "colab": {
          "base_uri": "https://localhost:8080/",
          "height": 205
        }
      },
      "source": [
        " \n",
        "def is_prime(n):\n",
        "  for i in range(2,n):\n",
        "    if n%i==0:\n",
        "      return False\n",
        "    return True\n",
        "def generate_twins(start,end):\n",
        "  for i in range(start,end):\n",
        "    j=i+2\n",
        "    if(is_prime(i) and is_prime(j)):\n",
        "      print(\"{:d} and {:d}\".format(i,j))\n",
        "generate_twins(2,25)"
      ],
      "execution_count": null,
      "outputs": [
        {
          "output_type": "stream",
          "text": [
            "3 and 5\n",
            "5 and 7\n",
            "7 and 9\n",
            "9 and 11\n",
            "11 and 13\n",
            "13 and 15\n",
            "15 and 17\n",
            "17 and 19\n",
            "19 and 21\n",
            "21 and 23\n",
            "23 and 25\n"
          ],
          "name": "stdout"
        }
      ]
    },
    {
      "cell_type": "markdown",
      "metadata": {
        "id": "97GgbvMa1zvJ"
      },
      "source": [
        " Print the prime numbers upto specified limit"
      ]
    },
    {
      "cell_type": "code",
      "metadata": {
        "id": "Fddv6ZGR13kw",
        "outputId": "3a4ffb88-7f25-4f40-f377-20174b650234",
        "colab": {
          "base_uri": "https://localhost:8080/",
          "height": 205
        }
      },
      "source": [
        " \n",
        "lower=2\n",
        "upper=10\n",
        "print(\"prime numbers between\",lower, \"and\", upper, \"are:\")\n",
        "for num in range(lower,upper+1):\n",
        "  if num>1:\n",
        "    for i in range(2,num):\n",
        "      if(num%i)==0:\n",
        "        break\n",
        "      else:\n",
        "        print(num)"
      ],
      "execution_count": null,
      "outputs": [
        {
          "output_type": "stream",
          "text": [
            "prime numbers between 2 and 10 are:\n",
            "3\n",
            "5\n",
            "5\n",
            "5\n",
            "7\n",
            "7\n",
            "7\n",
            "7\n",
            "7\n",
            "9\n"
          ],
          "name": "stdout"
        }
      ]
    },
    {
      "cell_type": "markdown",
      "metadata": {
        "id": "U0Pi-yTC19AM"
      },
      "source": [
        " Find the sum of digits of the nunbers.Check the whether the given number is Armstrong number Or not"
      ]
    },
    {
      "cell_type": "code",
      "metadata": {
        "id": "jkQrX8wz2IXG",
        "outputId": "37b3d8fc-5ba0-47eb-ad00-65450c01e7cf",
        "colab": {
          "base_uri": "https://localhost:8080/",
          "height": 198
        }
      },
      "source": [
        " \n",
        "num=int(input(\"Enter a number:\"))\n",
        "sum=0\n",
        "temp=num\n",
        "while temp>0:\n",
        "  digit=temp%10\n",
        "  sum+=digit**3\n",
        "  temp//=10\n",
        "if num==sum:\n",
        "  print(num,\"is an Armstong number\")\n",
        "else:\n",
        "  print(num,\"is not an Armstong number\""
      ],
      "execution_count": null,
      "outputs": [
        {
          "output_type": "error",
          "ename": "SyntaxError",
          "evalue": "ignored",
          "traceback": [
            "\u001b[0;36m  File \u001b[0;32m\"<ipython-input-6-819fc2970026>\"\u001b[0;36m, line \u001b[0;32m12\u001b[0m\n\u001b[0;31m    print(num,\"is not an Armstong number\"\u001b[0m\n\u001b[0m                                         ^\u001b[0m\n\u001b[0;31mSyntaxError\u001b[0m\u001b[0;31m:\u001b[0m unexpected EOF while parsing\n"
          ]
        }
      ]
    },
    {
      "cell_type": "markdown",
      "metadata": {
        "id": "8Ri0syCi2ZnR"
      },
      "source": [
        " Snapping of two numbers"
      ]
    },
    {
      "cell_type": "code",
      "metadata": {
        "id": "OIyYvFRO2ebG",
        "outputId": "aaa0eb02-9ba3-4d22-b2c8-f23f7d1a7974",
        "colab": {
          "base_uri": "https://localhost:8080/",
          "height": 51
        }
      },
      "source": [
        " \n",
        "x=4\n",
        "y=2\n",
        "temp=x\n",
        "x=y\n",
        "y=temp\n",
        "print('The value of x after swapping: {}'.format(x))\n",
        "print('The value of y after swapping: {}'.format(y))"
      ],
      "execution_count": null,
      "outputs": [
        {
          "output_type": "stream",
          "text": [
            "The value of x after swapping: 2\n",
            "The value of y after swapping: 4\n"
          ],
          "name": "stdout"
        }
      ]
    },
    {
      "cell_type": "markdown",
      "metadata": {
        "id": "BEbuvOLQ2j7v"
      },
      "source": [
        " Preforms all of the Five Arithmetic Operations"
      ]
    },
    {
      "cell_type": "code",
      "metadata": {
        "id": "ng17bY9B2n6p",
        "outputId": "aaeeb30e-62db-428f-99a3-3d700f361e08",
        "colab": {
          "base_uri": "https://localhost:8080/",
          "height": 119
        }
      },
      "source": [
        " \n",
        "num1=input('Enter first number:')\n",
        "num2=input('Enter second number:')\n",
        "sum =float(num1)+float(num)\n",
        "sub =float(num1)-float(num2)\n",
        "mul =float(num1)*float(num2)\n",
        "div =float(num1)/float(num2)\n",
        "print(\"The Addition of {0} and {1} is {2}\".format(num1,num2,sum))\n",
        "print(\"The subtraction of {0} and {1} is {2}\".format(num1,num2,sub))\n",
        "print(\"The multiplication of {0} and {1} is {2}\".format(num1,num2,mul))\n",
        "print(\"The division of {0} and {1} is {2}\".format(num1,num2,div))"
      ],
      "execution_count": null,
      "outputs": [
        {
          "output_type": "stream",
          "text": [
            "Enter first number:5\n",
            "Enter second number:1\n",
            "The Addition of 5 and 1 is 15.0\n",
            "The subtraction of 5 and 1 is 4.0\n",
            "The multiplication of 5 and 1 is 5.0\n",
            "The division of 5 and 1 is 5.0\n"
          ],
          "name": "stdout"
        }
      ]
    }
  ]
}